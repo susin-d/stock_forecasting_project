{
 "cells": [
  {
   "cell_type": "markdown",
   "id": "8ebe2bf1",
   "metadata": {},
   "source": [
    "# ARIMA & SARIMA Modeling\n",
    "\n",
    "Build and evaluate ARIMA/SARIMA models."
   ]
  },
  {
   "cell_type": "code",
   "execution_count": null,
   "id": "42c2fdc0",
   "metadata": {},
   "outputs": [],
   "source": [
    "import pandas as pd\n",
    "from statsmodels.tsa.arima.model import ARIMA\n",
    "from statsmodels.tsa.statespace.sarimax import SARIMAX\n",
    "\n",
    "data = pd.read_csv('../data/processed/AAPL_clean.csv', parse_dates=['Date'])\n",
    "data.set_index('Date', inplace=True)\n",
    "\n",
    "# ARIMA model\n",
    "arima = ARIMA(data['Close'], order=(5,1,0))\n",
    "arima_fit = arima.fit()\n",
    "forecast_arima = arima_fit.forecast(steps=30)\n",
    "\n",
    "# SARIMA model\n",
    "sarima = SARIMAX(data['Close'], order=(1,1,1), seasonal_order=(1,1,1,12))\n",
    "sarima_fit = sarima.fit()\n",
    "forecast_sarima = sarima_fit.forecast(steps=30)"
   ]
  }
 ],
 "metadata": {
  "language_info": {
   "name": "python"
  }
 },
 "nbformat": 4,
 "nbformat_minor": 5
}
