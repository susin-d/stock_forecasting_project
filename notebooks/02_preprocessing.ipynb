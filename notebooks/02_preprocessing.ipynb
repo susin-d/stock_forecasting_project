{
 "cells": [
  {
   "cell_type": "markdown",
   "id": "b89ced88",
   "metadata": {},
   "source": [
    "# Data Preprocessing\n",
    "\n",
    "Handle missing values, outliers, scaling, and stationarity."
   ]
  },
  {
   "cell_type": "code",
   "execution_count": null,
   "id": "9b3df5f4",
   "metadata": {},
   "outputs": [],
   "source": [
    "import pandas as pd\n",
    "from sklearn.preprocessing import MinMaxScaler\n",
    "\n",
    "data = pd.read_csv('../data/raw/AAPL.csv', parse_dates=['Date'])\n",
    "data.set_index('Date', inplace=True)\n",
    "\n",
    "# Fill missing values\n",
    "data = data.fillna(method='ffill')\n",
    "\n",
    "# Scale Close price\n",
    "scaler = MinMaxScaler()\n",
    "data['Close_scaled'] = scaler.fit_transform(data[['Close']])\n",
    "\n",
    "# Save processed data\n",
    "data.to_csv('../data/processed/AAPL_clean.csv')"
   ]
  }
 ],
 "metadata": {
  "language_info": {
   "name": "python"
  }
 },
 "nbformat": 4,
 "nbformat_minor": 5
}
