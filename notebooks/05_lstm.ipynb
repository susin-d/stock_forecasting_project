{
 "cells": [
  {
   "cell_type": "markdown",
   "id": "a36a1387",
   "metadata": {},
   "source": [
    "# LSTM Modeling\n",
    "\n",
    "Forecast with LSTM neural network."
   ]
  },
  {
   "cell_type": "code",
   "execution_count": null,
   "id": "faf35dfe",
   "metadata": {},
   "outputs": [],
   "source": [
    "import pandas as pd\n",
    "import numpy as np\n",
    "from sklearn.preprocessing import MinMaxScaler\n",
    "from tensorflow.keras.models import Sequential\n",
    "from tensorflow.keras.layers import LSTM, Dense\n",
    "\n",
    "data = pd.read_csv('../data/processed/AAPL_clean.csv')\n",
    "close_prices = data['Close'].values.reshape(-1, 1)\n",
    "scaler = MinMaxScaler()\n",
    "scaled = scaler.fit_transform(close_prices)\n",
    "\n",
    "# Prepare sequences\n",
    "window = 30\n",
    "X, y = [], []\n",
    "for i in range(window, len(scaled)):\n",
    "    X.append(scaled[i-window:i, 0])\n",
    "    y.append(scaled[i, 0])\n",
    "X, y = np.array(X), np.array(y)\n",
    "X = X.reshape((X.shape[0], X.shape[1], 1))\n",
    "\n",
    "# Build LSTM\n",
    "model = Sequential([LSTM(50, input_shape=(window, 1)), Dense(1)])\n",
    "model.compile(optimizer='adam', loss='mse')\n",
    "model.fit(X, y, epochs=10, batch_size=32)\n",
    "\n",
    "# Forecast\n",
    "pred = model.predict(X[-1].reshape(1, window, 1))"
   ]
  }
 ],
 "metadata": {
  "language_info": {
   "name": "python"
  }
 },
 "nbformat": 4,
 "nbformat_minor": 5
}
