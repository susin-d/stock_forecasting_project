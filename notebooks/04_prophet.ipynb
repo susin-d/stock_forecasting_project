{
 "cells": [
  {
   "cell_type": "markdown",
   "id": "9b977e3b",
   "metadata": {},
   "source": [
    "# Prophet Modeling\n",
    "\n",
    "Forecast with Facebook Prophet."
   ]
  },
  {
   "cell_type": "code",
   "execution_count": null,
   "id": "86b55025",
   "metadata": {},
   "outputs": [],
   "source": [
    "import pandas as pd\n",
    "from prophet import Prophet\n",
    "\n",
    "data = pd.read_csv('../data/processed/AAPL_clean.csv')\n",
    "data = data.rename(columns={'Date': 'ds', 'Close': 'y'})\n",
    "\n",
    "model = Prophet()\n",
    "model.fit(data[['ds', 'y']])\n",
    "future = model.make_future_dataframe(periods=30)\n",
    "forecast = model.predict(future)"
   ]
  }
 ],
 "metadata": {
  "language_info": {
   "name": "python"
  }
 },
 "nbformat": 4,
 "nbformat_minor": 5
}
