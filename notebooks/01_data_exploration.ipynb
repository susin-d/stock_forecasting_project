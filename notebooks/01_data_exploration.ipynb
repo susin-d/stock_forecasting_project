{
 "cells": [
  {
   "cell_type": "markdown",
   "id": "de962b29",
   "metadata": {},
   "source": [
    "# Data Exploration\n",
    "\n",
    "Load and visualize stock data."
   ]
  },
  {
   "cell_type": "code",
   "execution_count": null,
   "id": "76058350",
   "metadata": {},
   "outputs": [],
   "source": [
    "import pandas as pd\n",
    "import matplotlib.pyplot as plt\n",
    "\n",
    "data = pd.read_csv('../data/raw/AAPL.csv', parse_dates=['Date'])\n",
    "data.set_index('Date', inplace=True)\n",
    "data['Close'].plot(figsize=(12,6))\n",
    "plt.title('AAPL Closing Price')\n",
    "plt.show()"
   ]
  }
 ],
 "metadata": {
  "kernelspec": {
   "display_name": "Python 3",
   "language": "python",
   "name": "python3"
  },
  "language_info": {
   "name": "python",
   "version": "3.11.9"
  }
 },
 "nbformat": 4,
 "nbformat_minor": 5
}
